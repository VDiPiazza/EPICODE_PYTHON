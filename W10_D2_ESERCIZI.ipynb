{
 "cells": [
  {
   "cell_type": "markdown",
   "id": "b38bf50b-b8a2-4c94-bdb2-b6b2bfc13b3b",
   "metadata": {},
   "source": [
    "Esercizio 1 -\n",
    "Abbiamo una lista di liste:\n",
    "mat = [[0, 1, 2, 3, 4],\n",
    "[5, 6, 7, 8, 9],\n",
    "[10, 11, 12, 13, 14]]\n",
    "Che tipo di struttura dati o matematica potrebbe rappresentare? Notare che\n",
    "tutte le liste \"interne\" sono della stessa dimensione\n",
    "Come facciamo per accedere ad un elemento in particolare?"
   ]
  },
  {
   "cell_type": "code",
   "execution_count": 8,
   "id": "8f0acbd6-42e7-4dd0-9b49-217230f2194b",
   "metadata": {},
   "outputs": [
    {
     "name": "stdout",
     "output_type": "stream",
     "text": [
      "7\n"
     ]
    }
   ],
   "source": [
    "# Lista di liste (matrice)\n",
    "mat = [\n",
    "    [0, 1, 2, 3, 4],\n",
    "    [5, 6, 7, 8, 9],\n",
    "    [10, 11, 12, 13, 14]\n",
    "]\n",
    "# Accesso all'elemento in posizione (1, 2)\n",
    "elemento = mat[1][2]\n",
    "print(elemento)"
   ]
  },
  {
   "cell_type": "markdown",
   "id": "131f6123-32e5-4150-b9a8-b4d91b43891d",
   "metadata": {},
   "source": [
    "Esercizio 2 - \r\n",
    "Importiamo il modulo math e proviamo a usare le funzioni\r\n",
    ".sin()\r\n",
    ".cos()\r\n",
    ".factorial()\r\n",
    "e la variabile\r\n",
    ".pi\r\n",
    "la riconoscete?"
   ]
  },
  {
   "cell_type": "code",
   "execution_count": 13,
   "id": "a752ff40-94e4-467a-aeff-f9246841e26a",
   "metadata": {},
   "outputs": [
    {
     "name": "stdout",
     "output_type": "stream",
     "text": [
      "Seno di 1.5707963267948966 radianti è: 1.0\n",
      "Coseno di 1.5707963267948966 radianti è: 6.123233995736766e-17\n",
      "Il fattoriale di 5 è: 120\n",
      "Il valore di pi greco è: 3.141592653589793\n"
     ]
    }
   ],
   "source": [
    "import math\n",
    "angolo = math.pi / 2  \n",
    "seno = math.sin(angolo)\n",
    "coseno = math.cos(angolo)\n",
    "fattoriale = math.factorial(5)\n",
    "print(f\"Seno di {angolo} radianti è: {seno}\")\n",
    "print(f\"Coseno di {angolo} radianti è: {coseno}\")\n",
    "print(f\"Il fattoriale di 5 è: {fattoriale}\")\n",
    "print(f\"Il valore di pi greco è: {math.pi}\")\n"
   ]
  },
  {
   "cell_type": "markdown",
   "id": "bb6df79f-de59-42f7-9a6a-3b84a6e13fa3",
   "metadata": {},
   "source": [
    "Esercizio 3 - \n",
    "Proviamo a eseguire\n",
    "math.degrees(math.pi)\n",
    "Qual è e cosa significa il risultato?\n",
    "Per saperne di più su questa funzione possiamo usare\n",
    "help(math.degrees)"
   ]
  },
  {
   "cell_type": "code",
   "execution_count": 22,
   "id": "3bd3be7f-b374-470a-b6e1-ba347d1bbfc7",
   "metadata": {},
   "outputs": [
    {
     "name": "stdout",
     "output_type": "stream",
     "text": [
      "Questo significa che pigreco radianti corrisponde a 180.0 gradi\n"
     ]
    }
   ],
   "source": [
    "print (\"Questo significa che pigreco radianti corrisponde a\",math.degrees(math.pi), \"gradi\")"
   ]
  },
  {
   "cell_type": "markdown",
   "id": "e7ea09c9-a157-48e3-8ff9-6e30b7779bd6",
   "metadata": {},
   "source": [
    "Esercizio 4 - \r\n",
    "L'azienda Object SpA ha creato una lista di quanti oggetti ha venduto ogni\r\n",
    "mese nell'ultimo anno:\r\n",
    "lst = [2000, 5500, 7200, 4320, 1280, 1900,\r\n",
    "2500, 3900, 6410, 8150, 7100, 5350]\r\n",
    "trasformiamola in un array NumPy (casting):\r\n",
    "lst = np.array(lst)\r\n",
    "e rispondiamo alle domande del CEO della Object SpA:\r\n",
    "• qual è stata la vendita massima mensile? E quella minima?\r\n",
    "• quali sono le vendite mensili maggiori di 4999 oggetti? E quante ne sono?\r\n",
    "• quali sono le vendite minori di 3000 oggetti?\r\n",
    "• in media quanti oggetti sono stati venduti al mese?"
   ]
  },
  {
   "cell_type": "code",
   "execution_count": 28,
   "id": "5a86e8bc-9a72-49fe-96e7-92c977ac6af4",
   "metadata": {},
   "outputs": [
    {
     "name": "stdout",
     "output_type": "stream",
     "text": [
      "La vendita massima mensile è stata: 8150\n",
      "La vendita minima mensile è stata: 1280\n",
      "Le vendite mensili maggiori di 4999 oggetti sono: [5500 7200 6410 8150 7100 5350]\n",
      "Numero di vendite mensili maggiori di 4999 oggetti: 6\n",
      "Le vendite mensili minori di 3000 oggetti sono: [2000 1280 1900 2500]\n",
      "In media sono stati venduti 4634.17 oggetti al mese.\n"
     ]
    }
   ],
   "source": [
    "import numpy as np\n",
    "lst = [2000, 5500, 7200, 4320, 1280, 1900, 2500, 3900, 6410, 8150, 7100, 5350]\n",
    "vendite_array = np.array(lst)\n",
    "vendita_massima = np.max(vendite_array)\n",
    "vendita_minima = np.min(vendite_array)\n",
    "print(f\"La vendita massima mensile è stata: {vendita_massima}\")\n",
    "print(f\"La vendita minima mensile è stata: {vendita_minima}\")\n",
    "vendite_maggiori_di_4999 = vendite_array[vendite_array > 4999]\n",
    "numero_vendite_maggiori_di_4999 = len(vendite_maggiori_di_4999)\n",
    "print(f\"Le vendite mensili maggiori di 4999 oggetti sono: {vendite_maggiori_di_4999}\")\n",
    "print(f\"Numero di vendite mensili maggiori di 4999 oggetti: {numero_vendite_maggiori_di_4999}\")\n",
    "vendite_minori_di_3000 = vendite_array[vendite_array < 3000]\n",
    "print(f\"Le vendite mensili minori di 3000 oggetti sono: {vendite_minori_di_3000}\")\n",
    "media_vendite_mensili = np.mean(vendite_array)\n",
    "print(f\"In media sono stati venduti {media_vendite_mensili:.2f} oggetti al mese.\")\n"
   ]
  },
  {
   "cell_type": "markdown",
   "id": "e452aeda-d6c7-4fa8-8252-71bc5882c355",
   "metadata": {},
   "source": [
    "Esercizio 5 - \r\n",
    "L'azienda Object SpA ha un dataset con tutti gli stipendi dei dipendenti,\r\n",
    "memorizzato in un ndarray:\r\n",
    "import numpy as np\r\n",
    "stipendi = np.array( [100, 200, 300, 400, 500,\r\n",
    "600, 700, 800, 900, 1000] )\r\n",
    "L'azienda ci chiede di raddoppiare tutti gli stipendi; facciamolo in due modi:\r\n",
    "• con un ciclo for\r\n",
    "• con il maskingl dizionario?"
   ]
  },
  {
   "cell_type": "code",
   "execution_count": 36,
   "id": "2301a2c6-a8b2-44a4-a3a7-8a1dc69c1145",
   "metadata": {},
   "outputs": [
    {
     "name": "stdout",
     "output_type": "stream",
     "text": [
      "Stipendi raddoppiati con ciclo for:\n",
      "[ 200  400  600  800 1000 1200 1400 1600 1800 2000]\n",
      "Stipendi raddoppiati con il masking:\n",
      "[ 200  400  600  800 1000 1200 1400 1600 1800 2000]\n"
     ]
    }
   ],
   "source": [
    "#Utilizzo di un ciclo for:\n",
    "import numpy as np\n",
    "stipendi = np.array([100, 200, 300, 400, 500, 600, 700, 800, 900, 1000])\n",
    "for i in range(len(stipendi)):\n",
    "    stipendi[i] *= 2\n",
    "print(\"Stipendi raddoppiati con ciclo for:\")\n",
    "print(stipendi)\n",
    "\n",
    "#Utilizzo di masking:\n",
    "stipendi = np.array([100, 200, 300, 400, 500, 600, 700, 800, 900, 1000])\n",
    "stipendi *= 2\n",
    "print(\"Stipendi raddoppiati con il masking:\")\n",
    "print(stipendi)"
   ]
  },
  {
   "cell_type": "code",
   "execution_count": null,
   "id": "9bd11375-f34a-417a-87ea-a33ada144f1c",
   "metadata": {},
   "outputs": [],
   "source": []
  }
 ],
 "metadata": {
  "kernelspec": {
   "display_name": "Python 3 (ipykernel)",
   "language": "python",
   "name": "python3"
  },
  "language_info": {
   "codemirror_mode": {
    "name": "ipython",
    "version": 3
   },
   "file_extension": ".py",
   "mimetype": "text/x-python",
   "name": "python",
   "nbconvert_exporter": "python",
   "pygments_lexer": "ipython3",
   "version": "3.11.7"
  }
 },
 "nbformat": 4,
 "nbformat_minor": 5
}
