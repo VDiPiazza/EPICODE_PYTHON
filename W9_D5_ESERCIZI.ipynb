{
 "cells": [
  {
   "cell_type": "markdown",
   "id": "f8b98f4c-6070-4ec0-b62d-f354ff4781ea",
   "metadata": {
    "editable": true,
    "slideshow": {
     "slide_type": ""
    },
    "tags": []
   },
   "source": [
    "# W9_D5_ESERCIZI"
   ]
  },
  {
   "cell_type": "markdown",
   "id": "c1ba82c1-5d1c-4357-9230-26f9a4a0bd92",
   "metadata": {
    "editable": true,
    "slideshow": {
     "slide_type": ""
    },
    "tags": []
   },
   "source": [
    "Esercizio 1 - Abbiamo la stringa: nome_scuola = \"Epicode\" - \n",
    "Stampare ogni carattere della stringa, uno su ogni riga, utilizzando un costrutto while."
   ]
  },
  {
   "cell_type": "code",
   "execution_count": 28,
   "id": "93bc3887-f583-40ab-a938-f92719165bb3",
   "metadata": {
    "editable": true,
    "slideshow": {
     "slide_type": ""
    },
    "tags": []
   },
   "outputs": [
    {
     "name": "stdout",
     "output_type": "stream",
     "text": [
      "E\n",
      "p\n",
      "i\n",
      "c\n",
      "o\n",
      "d\n",
      "e\n"
     ]
    }
   ],
   "source": [
    "nome_scuola = \"Epicode\"\n",
    "inizio = 0\n",
    "while inizio < len(nome_scuola):\n",
    "    print(nome_scuola[inizio])\n",
    "    inizio += 1"
   ]
  },
  {
   "cell_type": "markdown",
   "id": "f47f1ba4-67d6-4326-b93a-201580294e51",
   "metadata": {
    "editable": true,
    "slideshow": {
     "slide_type": ""
    },
    "tags": []
   },
   "source": [
    "Esercizio 2 - \n",
    "Stampare a video tutti i numeri da 0 a 20 utilizzando il costrutto while."
   ]
  },
  {
   "cell_type": "code",
   "execution_count": 39,
   "id": "da8d41f9-a1ef-4053-9b13-3e1e91902031",
   "metadata": {},
   "outputs": [
    {
     "name": "stdout",
     "output_type": "stream",
     "text": [
      "0\n",
      "1\n",
      "2\n",
      "3\n",
      "4\n",
      "5\n",
      "6\n",
      "7\n",
      "8\n",
      "9\n",
      "10\n",
      "11\n",
      "12\n",
      "13\n",
      "14\n",
      "15\n",
      "16\n",
      "17\n",
      "18\n",
      "19\n",
      "20\n"
     ]
    }
   ],
   "source": [
    "numeri = 20\n",
    "inizio = 0\n",
    "while inizio <= numeri:\n",
    "    print(inizio)\n",
    "    inizio += 1"
   ]
  },
  {
   "cell_type": "markdown",
   "id": "045e3af9-1ac8-4669-a002-add73a8e480e",
   "metadata": {},
   "source": [
    "Esercizio 3 - \r\n",
    "Calcolare e stampare tutte le prime 10 potenze di 2 (e.g., 2⁰, 2¹, 2², … \r\n",
    "utilizzando un ciclo while."
   ]
  },
  {
   "cell_type": "code",
   "execution_count": 48,
   "id": "4617cde6-7eab-48fc-a289-3e829754620f",
   "metadata": {},
   "outputs": [
    {
     "name": "stdout",
     "output_type": "stream",
     "text": [
      "1\n",
      "2\n",
      "4\n",
      "8\n",
      "16\n",
      "32\n",
      "64\n",
      "128\n",
      "256\n",
      "512\n",
      "1024\n"
     ]
    }
   ],
   "source": [
    "n_potenze = 10\n",
    "inizio_potenza = 0\n",
    "while inizio_potenza <= n_potenze:\n",
    "    print(2 ** inizio_potenza)\n",
    "    inizio_potenza += 1"
   ]
  },
  {
   "cell_type": "code",
   "execution_count": 84,
   "id": "b85d8750-9382-4772-be3e-f8ba42935f63",
   "metadata": {},
   "outputs": [
    {
     "name": "stdin",
     "output_type": "stream",
     "text": [
      "inserisci il numero di potenze del 2 che vuoi calcolare 2\n"
     ]
    },
    {
     "name": "stdout",
     "output_type": "stream",
     "text": [
      "1\n",
      "2\n"
     ]
    }
   ],
   "source": [
    "inizio_potenza = 0\n",
    "n_potenze = int(input(\"inserisci il numero di potenze del 2 che vuoi calcolare\"))\n",
    "while inizio_potenza < n_potenze:\n",
    "    print(2 ** inizio_potenza)\n",
    "    inizio_potenza += 1"
   ]
  },
  {
   "cell_type": "markdown",
   "id": "bbb03427-30d0-4ca2-9767-d3192658f196",
   "metadata": {},
   "source": [
    "Esercizio 4 - \r\n",
    "Calcolare e stampare tutte le potenze di 2 minori di 25000."
   ]
  },
  {
   "cell_type": "code",
   "execution_count": 91,
   "id": "ceda7bad-ec47-4014-912d-ba7607e8a6d9",
   "metadata": {
    "scrolled": true
   },
   "outputs": [
    {
     "name": "stdout",
     "output_type": "stream",
     "text": [
      "1\n",
      "2\n",
      "4\n",
      "8\n",
      "16\n",
      "32\n",
      "64\n",
      "128\n",
      "256\n",
      "512\n",
      "1024\n",
      "2048\n",
      "4096\n",
      "8192\n",
      "16384\n"
     ]
    }
   ],
   "source": [
    "inizio_potenza = 0\n",
    "valore = 2 ** inizio_potenza\n",
    "while valore < 25000:\n",
    "    print(valore)\n",
    "    inizio_potenza += 1\n",
    "    valore = 2 ** inizio_potenza"
   ]
  },
  {
   "cell_type": "markdown",
   "id": "2d0d6dd6-fcf5-4013-bb88-e4e045a03bf8",
   "metadata": {},
   "source": [
    "Esercizio 5 - \n",
    "Abbiamo due liste, una di studenti e una di corsi:"
   ]
  },
  {
   "cell_type": "code",
   "execution_count": 126,
   "id": "bcbfaefb-2c6f-46f1-9049-ab1af14bb6b5",
   "metadata": {},
   "outputs": [],
   "source": [
    "studenti = [\"Alex\", \"Bob\", \"Cindy\", \"Dan\", \"Emma\", \"Faith\", \"Grace\", \"Henry\"]\n",
    "corsi = [\"Cybersecurity\", \"Data Analyst\", \"Backend\",\"Frontend\", \"Data Analyst\", \"Backend\"]"
   ]
  },
  {
   "cell_type": "markdown",
   "id": "4ae3e7c9-430d-4d90-8f92-14fcaa764c93",
   "metadata": {},
   "source": [
    "Aggiungere i dati mancanti alla lista corsi, sapendo che\r\n",
    "Emma segue Data Analyst\r\n",
    "Faith segue Backend\r\n",
    "Grace segue Frontend\r\n",
    "Henry segue Cybersecurity\r\n",
    "Aggiungeremo i dati mancanti uno alla volta con il metodo per appendere in\r\n",
    "coda alle liste, poi verificheremo che sono della stessa lunghezza e se lo sono\r\n",
    "stamperemo la lista corsi. Se alcuni dati sono già presenti non vanno aggiunti\r\n",
    "di nuovo."
   ]
  },
  {
   "cell_type": "code",
   "execution_count": 132,
   "id": "2c6a6362-38ff-4af9-93c1-8f4a4cb624bb",
   "metadata": {},
   "outputs": [
    {
     "name": "stdout",
     "output_type": "stream",
     "text": [
      "Le liste sono della stessa lunghezza.\n",
      "Lista dei corsi: ['Cybersecurity', 'Data Analyst', 'Backend', 'Frontend', 'Data Analyst', 'Backend', 'Frontend', 'Cybersecurity']\n"
     ]
    }
   ],
   "source": [
    "corsi.append(\"Frontend\")\n",
    "corsi.append(\"Cybersecurity\")\n",
    "if len(studenti) == len(corsi):\n",
    "    print(\"Le liste sono della stessa lunghezza.\")\n",
    "    print(\"Lista dei corsi:\", corsi)\n",
    "else:\n",
    "    print(\"Le liste non sono della stessa lunghezza.\")"
   ]
  },
  {
   "cell_type": "markdown",
   "id": "6df668f7-ee23-44e2-a4ea-913ef277ad9b",
   "metadata": {},
   "source": [
    "Esercizio 6 - \n",
    "Scriviamo un programma che chiede in input all'utente una stringa e visualizza i\n",
    "primi 3 caratteri, seguiti da 3 punti di sospensione e quindi gli ultimi 3 caratteri,\n",
    "similmente all'esercizio della lezione scorsa. - \n",
    "Stavolta facciamo attenzione a tutti i casi particolari, ovvero implementare\n",
    "soluzioni ad hoc per stringhe di lunghezza inferiore a 6 caratteri."
   ]
  },
  {
   "cell_type": "code",
   "execution_count": 153,
   "id": "9168c3be-1526-4fbd-9bf3-cdd6c4bcc695",
   "metadata": {},
   "outputs": [
    {
     "name": "stdin",
     "output_type": "stream",
     "text": [
      "Inserisci una parola 1234567890\n"
     ]
    },
    {
     "name": "stdout",
     "output_type": "stream",
     "text": [
      "123 ... 890\n"
     ]
    }
   ],
   "source": [
    "parola = input(\"Inserisci una parola\")\n",
    "lunghezza = len(parola)\n",
    "if lunghezza < 6:\n",
    "    print(parola)\n",
    "else:\n",
    "    primi3 = parola[:3]\n",
    "    ultimi3 = parola[-3:]\n",
    "    print(primi3, \"...\", ultimi3)"
   ]
  },
  {
   "cell_type": "markdown",
   "id": "9b4d4887-a7f1-47b6-8bcf-3c84dc8f1e2f",
   "metadata": {},
   "source": [
    "Esercizio 7 - \r\n",
    "Memorizza e stampa tutti i fattori di un numero dato in input."
   ]
  },
  {
   "cell_type": "code",
   "execution_count": 155,
   "id": "e7b0bcd7-d699-4083-8fae-6360060c9c8f",
   "metadata": {},
   "outputs": [
    {
     "name": "stdin",
     "output_type": "stream",
     "text": [
      "Inserisci un numero:  150\n"
     ]
    },
    {
     "name": "stdout",
     "output_type": "stream",
     "text": [
      "[2, 3, 5, 5]\n"
     ]
    }
   ],
   "source": [
    "numero = int(input(\"Inserisci un numero: \"))\n",
    "fattori = []\n",
    "divisore = 2\n",
    "while numero > 1:\n",
    "    while numero % divisore == 0:\n",
    "        fattori.append(divisore)\n",
    "        numero //= divisore\n",
    "    divisore += 1\n",
    "print(fattori)"
   ]
  },
  {
   "cell_type": "markdown",
   "id": "4cd2fdbd-e327-4325-ba3c-3dac36bc6991",
   "metadata": {},
   "source": [
    "Esercizio 8 - \n",
    "Abbiamo la stringa:\n",
    "nome_scuola = \"Epicode\" - \n",
    "Stampare ogni carattere della stringa, uno su ogni riga, utilizzando un costrutto\n",
    "for."
   ]
  },
  {
   "cell_type": "code",
   "execution_count": 165,
   "id": "cf4e11af-8df2-4858-bec3-a39a8cdea998",
   "metadata": {},
   "outputs": [
    {
     "name": "stdout",
     "output_type": "stream",
     "text": [
      "E\n",
      "p\n",
      "i\n",
      "c\n",
      "o\n",
      "d\n",
      "e\n"
     ]
    }
   ],
   "source": [
    "nome_scuola = \"Epicode\"\n",
    "for lettere in nome_scuola:\n",
    "    print(lettere)"
   ]
  },
  {
   "cell_type": "markdown",
   "id": "278693e2-ebb5-40e8-841b-297e83bcc393",
   "metadata": {},
   "source": [
    "Esercizio 9 -\n",
    "Calcolare e stampare tutte le prime 10 potenze di 2 utilizzando un ciclo."
   ]
  },
  {
   "cell_type": "code",
   "execution_count": 167,
   "id": "4ab56168-2add-425f-9270-16dc8d11d7de",
   "metadata": {},
   "outputs": [
    {
     "name": "stdout",
     "output_type": "stream",
     "text": [
      "1\n",
      "2\n",
      "4\n",
      "8\n",
      "16\n",
      "32\n",
      "64\n",
      "128\n",
      "256\n",
      "512\n"
     ]
    }
   ],
   "source": [
    "potenze_di_2 = []\n",
    "for esponente in range(10):\n",
    "    potenza = 2 ** esponente\n",
    "    potenze_di_2.append(potenza)\n",
    "for potenza in potenze_di_2:\n",
    "    print(potenza)"
   ]
  },
  {
   "cell_type": "markdown",
   "id": "62b58b3a-9363-4bc8-8e75-8564ae1cfce2",
   "metadata": {},
   "source": [
    "Esercizio 10 - \r\n",
    "Calcolare (ma non stampare) le prime N potenze di K; ognuna di esse andrà\r\n",
    "memorizzata in coda a una lista.\r\n",
    "Alla fine, stampare la lista risultante.\r\n",
    "Proviamo con diversi valori di K, oppure facciamola inserire all'utente.\r\n",
    "Realizzare due versioni:\r\n",
    "• con un ciclo while,\r\n",
    "• con un ciclo for."
   ]
  },
  {
   "cell_type": "code",
   "execution_count": 172,
   "id": "6029b636-eeab-45c9-9871-7d24679d74b2",
   "metadata": {},
   "outputs": [
    {
     "name": "stdin",
     "output_type": "stream",
     "text": [
      "Inserisci il valore di K:  2\n",
      "Inserisci il numero di potenze da calcolare (N):  3\n"
     ]
    },
    {
     "name": "stdout",
     "output_type": "stream",
     "text": [
      "Lista delle potenze di 2 fino a 3 :\n",
      "[1, 2, 4]\n"
     ]
    }
   ],
   "source": [
    "# Versione con ciclo while\n",
    "K = int(input(\"Inserisci il valore di K: \"))\n",
    "N = int(input(\"Inserisci il numero di potenze da calcolare (N): \"))\n",
    "potenze_di_K = []\n",
    "esponente = 0\n",
    "while esponente < N:\n",
    "    potenza = K ** esponente\n",
    "    potenze_di_K.append(potenza)\n",
    "    esponente += 1\n",
    "print(\"Lista delle potenze di\", K, \"fino a\", N, \":\")\n",
    "print(potenze_di_K)"
   ]
  },
  {
   "cell_type": "code",
   "execution_count": 174,
   "id": "5c232ff5-ba33-41ea-93ea-841dda7d7553",
   "metadata": {},
   "outputs": [
    {
     "name": "stdin",
     "output_type": "stream",
     "text": [
      "Inserisci il valore di K:  2\n",
      "Inserisci il numero di potenze da calcolare (N):  3\n"
     ]
    },
    {
     "name": "stdout",
     "output_type": "stream",
     "text": [
      "Lista delle potenze di 2 fino a 3 :\n",
      "[1, 2, 4]\n"
     ]
    }
   ],
   "source": [
    "# Versione con ciclo for\n",
    "K = int(input(\"Inserisci il valore di K: \"))\n",
    "N = int(input(\"Inserisci il numero di potenze da calcolare (N): \"))\n",
    "potenze_di_K = []\n",
    "for esponente in range(N):\n",
    "    potenza = K ** esponente\n",
    "    potenze_di_K.append(potenza)\n",
    "print(\"Lista delle potenze di\", K, \"fino a\", N, \":\")\n",
    "print(potenze_di_K)"
   ]
  },
  {
   "cell_type": "markdown",
   "id": "fd2ea1cb-c41e-4454-8841-f5f50af9c70d",
   "metadata": {},
   "source": [
    "Esercizio 11 - Abbiamo una lista con i guadagni degli ultimi 12 mesi , usando un costrutto for, calcolare la media dei guadagni e stamparla a video."
   ]
  },
  {
   "cell_type": "code",
   "execution_count": 183,
   "id": "71ef810b-529f-44bc-8e48-b18aa4f736f7",
   "metadata": {},
   "outputs": [
    {
     "name": "stdout",
     "output_type": "stream",
     "text": [
      "La media dei guadagni degli ultimi 12 mesi è: 70.0\n"
     ]
    }
   ],
   "source": [
    "guadagni = [100, 90, 70, 40, 50, 80, 90, 120, 80, 20, 50, 50]\n",
    "somma_guadagni = 0\n",
    "for guadagno in guadagni:\n",
    "    somma_guadagni += guadagno\n",
    "media_guadagni = somma_guadagni / len(guadagni)\n",
    "print(\"La media dei guadagni degli ultimi 12 mesi è:\", media_guadagni)"
   ]
  },
  {
   "cell_type": "markdown",
   "id": "43521540-8f68-43cb-b613-65a61d5ff5b3",
   "metadata": {},
   "source": [
    "Esercizio 12 - \n",
    "Abbiamo una lista di parole:\n",
    "stampiamo, per ogni parola, quante volte appare la lettera \"e\"; facciamo\n",
    "attenzione al fatto che appare sia maiuscola che minuscola."
   ]
  },
  {
   "cell_type": "code",
   "execution_count": 190,
   "id": "a5c70ba9-b2b7-4468-a912-8c6c1b517738",
   "metadata": {},
   "outputs": [
    {
     "name": "stdout",
     "output_type": "stream",
     "text": [
      "Albergo: 1\n",
      "Sedia: 1\n",
      "Borgo: 0\n",
      "Petalo: 1\n",
      "Eremo: 2\n",
      "Belvedere: 4\n",
      "Semestre: 3\n",
      "Esteta: 2\n",
      "Sosta: 0\n",
      "Orpello: 1\n",
      "Abete: 2\n",
      "Orologio: 0\n",
      "Cesta: 1\n",
      "Ermellino: 2\n"
     ]
    }
   ],
   "source": [
    "parole = [\"Albergo\", \"Sedia\", \"Borgo\", \"Petalo\", \"Eremo\",\n",
    "          \"Belvedere\", \"Semestre\", \"Esteta\", \"Sosta\", \"Orpello\",\n",
    "          \"Abete\", \"Orologio\", \"Cesta\", \"Ermellino\"]\n",
    "occorrenze_e = {}\n",
    "for parola in parole:\n",
    "    conteggio = 0\n",
    "    parola_minuscola = parola.lower()\n",
    "    conteggio = parola_minuscola.count('e')\n",
    "    occorrenze_e[parola] = conteggio\n",
    "for parola, conteggio in occorrenze_e.items():\n",
    "    print(f\"{parola}: {conteggio}\")"
   ]
  },
  {
   "cell_type": "markdown",
   "id": "4c2eb5dc-256e-489e-8ce1-486011bbfd87",
   "metadata": {},
   "source": [
    "Esercizio 13 - \r\n",
    "Creiamo un dizionario che assegni ad ogni proprietario la sua auto, sapendo\r\n",
    "che:\r\n",
    "• Ada guida una Punto\r\n",
    "• Ben guida una Multipla\r\n",
    "• Charlie guida una Golf\r\n",
    "• Debbie guida una 107\r\n",
    "Stampiamo il dizionario per intero, e poi l'auto associata a Debbie."
   ]
  },
  {
   "cell_type": "code",
   "execution_count": 195,
   "id": "e00f9ab1-4549-469b-960b-60e0f2f4521b",
   "metadata": {},
   "outputs": [
    {
     "name": "stdout",
     "output_type": "stream",
     "text": [
      "Dizionario proprietario-auto:\n",
      "Ada guida una Punto\n",
      "Ben guida una Multipla\n",
      "Charlie guida una Golf\n",
      "Debbie guida una 107\n",
      "\n",
      "L'auto di Debbie è: 107\n"
     ]
    }
   ],
   "source": [
    "proprietari_auto = {\n",
    "    \"Ada\": \"Punto\",\n",
    "    \"Ben\": \"Multipla\",\n",
    "    \"Charlie\": \"Golf\",\n",
    "    \"Debbie\": \"107\"\n",
    "}\n",
    "print(\"Dizionario proprietario-auto:\")\n",
    "for proprietario, auto in proprietari_auto.items():\n",
    "    print(f\"{proprietario} guida una {auto}\")\n",
    "auto_debbie = proprietari_auto[\"Debbie\"]\n",
    "print(\"\\nL'auto di Debbie è:\", auto_debbie)"
   ]
  },
  {
   "cell_type": "markdown",
   "id": "74ce031a-2b4a-48a6-9acc-b7d0d3c952b3",
   "metadata": {},
   "source": [
    "Esercizio 14 - \r\n",
    "Abbiamo un dizionario che assegna ad ogni proprietario la sua auto:\r\n",
    "dizionario_auto = {\"Ada\": \"Punto\", \"Ben\": \"Multipla\",\r\n",
    "\"Charlie\": \"Golf\", \"Debbie\": \"107\"}\r\n",
    "Con un ciclo, e usando il metodo .values(), stampiamo a video tutte le auto\r\n",
    "che non sono una Multipla."
   ]
  },
  {
   "cell_type": "code",
   "execution_count": 198,
   "id": "34b7803a-7c6d-447d-a620-8b1a327774f4",
   "metadata": {},
   "outputs": [
    {
     "name": "stdout",
     "output_type": "stream",
     "text": [
      "Auto che non sono una Multipla:\n",
      "Punto\n",
      "Golf\n",
      "107\n"
     ]
    }
   ],
   "source": [
    "dizionario_auto = {\n",
    "    \"Ada\": \"Punto\",\n",
    "    \"Ben\": \"Multipla\",\n",
    "    \"Charlie\": \"Golf\",\n",
    "    \"Debbie\": \"107\"\n",
    "}\n",
    "print(\"Auto che non sono una Multipla:\")\n",
    "for auto in dizionario_auto.values():\n",
    "    if auto != \"Multipla\":\n",
    "        print(auto)"
   ]
  },
  {
   "cell_type": "markdown",
   "id": "ad3bee7e-310c-46ed-b4d0-04900b9f3b52",
   "metadata": {},
   "source": [
    "Esercizio 15 - \r\n",
    "Abbiamo due dizionari che assegnano ad ogni proprietario la propria auto:\r\n",
    "dizionario_auto = {\"Ada\": \"Punto\", \"Ben\": \"Multipla\",\r\n",
    "\"Charlie\": \"Golf\", \"Debbie\": \"107\", \"Emily\": \"A1\"}\r\n",
    "nuovi_proprietari = {\"Ben\": \"Polo\", \"Fred\": \"Octavia\",\r\n",
    "\"Grace\": \"Yaris\", \"Hugh\": \"Clio\"}\r\n",
    "Aggiornare il dizionario dizionario_auto con i dati contenuti in\r\n",
    "nuovi_proprietari e stamparlo. Cosa è successo a Ben?"
   ]
  },
  {
   "cell_type": "code",
   "execution_count": 201,
   "id": "f8c869a1-e54c-4069-9ac1-d19f8ca7f99c",
   "metadata": {},
   "outputs": [
    {
     "name": "stdout",
     "output_type": "stream",
     "text": [
      "Dizionario aggiornato dizionario_auto:\n",
      "Ada guida una Punto\n",
      "Ben guida una Polo\n",
      "Charlie guida una Golf\n",
      "Debbie guida una 107\n",
      "Emily guida una A1\n",
      "Fred guida una Octavia\n",
      "Grace guida una Yaris\n",
      "Hugh guida una Clio\n",
      "\n",
      "A Ben è stata assegnata una nuova auto: Polo\n"
     ]
    }
   ],
   "source": [
    "dizionario_auto = {\n",
    "    \"Ada\": \"Punto\",\n",
    "    \"Ben\": \"Multipla\",\n",
    "    \"Charlie\": \"Golf\",\n",
    "    \"Debbie\": \"107\",\n",
    "    \"Emily\": \"A1\"\n",
    "}\n",
    "nuovi_proprietari = {\n",
    "    \"Ben\": \"Polo\",\n",
    "    \"Fred\": \"Octavia\",\n",
    "    \"Grace\": \"Yaris\",\n",
    "    \"Hugh\": \"Clio\"\n",
    "}\n",
    "dizionario_auto.update(nuovi_proprietari)\n",
    "print(\"Dizionario aggiornato dizionario_auto:\")\n",
    "for proprietario, auto in dizionario_auto.items():\n",
    "    print(f\"{proprietario} guida una {auto}\")\n",
    "if \"Ben\" in nuovi_proprietari:\n",
    "    print(f\"\\nA Ben è stata assegnata una nuova auto: {nuovi_proprietari['Ben']}\")\n",
    "elif \"Ben\" in dizionario_auto:\n",
    "    print(f\"\\nBen ha ancora la sua vecchia auto nel dizionario: {dizionario_auto['Ben']}\")\n",
    "else:\n",
    "    print(\"\\nBen non è più nel dizionario.\")\n"
   ]
  },
  {
   "cell_type": "markdown",
   "id": "bd8c040c-480e-4bb4-9de7-8611f5da9397",
   "metadata": {},
   "source": [
    "Esercizio 16 - \n",
    "Scrivere un programma che, data una lista di numeri, fornisca in output il\n",
    "minimo e il massimo (possiamo usare o meno le funzioni built-in min() e\n",
    "max())."
   ]
  },
  {
   "cell_type": "code",
   "execution_count": 204,
   "id": "c1952740-5f1a-47a6-87fc-38ead1fa587f",
   "metadata": {},
   "outputs": [
    {
     "name": "stdout",
     "output_type": "stream",
     "text": [
      "Il valore minimo è: 8\n",
      "Il valore massimo è: 95\n"
     ]
    }
   ],
   "source": [
    "numeri = [34, 12, 67, 8, 95, 42, 18, 56]\n",
    "if numeri:  # verifica se la lista non è vuota\n",
    "    minimo = numeri[0]\n",
    "    massimo = numeri[0]\n",
    "    for numero in numeri:\n",
    "        if numero < minimo:\n",
    "            minimo = numero\n",
    "        if numero > massimo:\n",
    "            massimo = numero\n",
    "    print(\"Il valore minimo è:\", minimo)\n",
    "    print(\"Il valore massimo è:\", massimo)\n",
    "else:\n",
    "    print(\"La lista è vuota.\")\n"
   ]
  },
  {
   "cell_type": "markdown",
   "id": "a8e69efa-f62f-4ca6-b334-df0f0085054d",
   "metadata": {},
   "source": [
    "Esercizio 17 - \r\n",
    "Abbiamo una lista di codici fiscali:7G\"]\r\n",
    "• trovare i codici fiscali che contengono \"95\", metterli in una lista, e alla fine\r\n",
    "stamparla;\r\n",
    "• inoltre, per ognuno di essi, stampare a video i caratteri relativi al nome e\r\n",
    "quelli relativi al cognome."
   ]
  },
  {
   "cell_type": "code",
   "execution_count": 214,
   "id": "560a702c-2951-439a-b281-327645cf1840",
   "metadata": {},
   "outputs": [
    {
     "name": "stdout",
     "output_type": "stream",
     "text": [
      "Codici fiscali che contengono '95':\n",
      "ABCDEF95G01A123B\n",
      "STUVWX95Z04A654E\n",
      "DEFGHI95J06A987G\n",
      "\n",
      "Dettagli per ciascun codice fiscale:\n",
      "Codice fiscale: ABCDEF95G01A123B, Nome: ABCDEF, Cognome: G01\n",
      "Codice fiscale: STUVWX95Z04A654E, Nome: STUVWX, Cognome: Z04\n",
      "Codice fiscale: DEFGHI95J06A987G, Nome: DEFGHI, Cognome: J06\n"
     ]
    }
   ],
   "source": [
    "lista_cf = [\"ABCDEF95G01A123B\", \"GHIJKL91M02A321C\",\n",
    "            \"MNOPQR89S03A456D\", \"STUVWX95Z04A654E\",\n",
    "            \"XYZABC01D05A789F\", \"DEFGHI95J06A987G\"]\n",
    "cf_con_95 = []\n",
    "for cf in lista_cf:\n",
    "    if \"95\" in cf:\n",
    "        cf_con_95.append(cf)\n",
    "print(\"Codici fiscali che contengono '95':\")\n",
    "for cf in cf_con_95:\n",
    "    print(cf)\n",
    "print(\"\\nDettagli per ciascun codice fiscale:\")\n",
    "for cf in cf_con_95:\n",
    "    nome = cf[:6]\n",
    "    cognome = cf[cf.index(\"95\") + 2:cf.index(\"95\") + 5]\n",
    "    print(f\"Codice fiscale: {cf}, Nome: {nome}, Cognome: {cognome}\")"
   ]
  },
  {
   "cell_type": "markdown",
   "id": "eb8b6e50-eaaf-4be5-bcf6-1850f5f26f73",
   "metadata": {},
   "source": [
    "Esercizio 18 - \n",
    "Abbiamo tre liste della stessa lunghezza, dove ogni elemento nella medesima posizione si\n",
    "riferisce ai dati dello stesso studente:\n",
    "studenti = [\"Alex\", \"Bob\", \"Cindy\", \"Dan\", \"Emma\", \"Faith\", \"Grace\",\n",
    "\"Henry\"]\n",
    "corsi = [\"Cybersecurity\", \"Data Analyst\", \"Backend\", \"Frontend\",\n",
    "\"Data Analyst\", \"Backend\", \"Frontend\", \"Cybersecurity\"]\n",
    "edizioni = [1, 2, 3, 2, 2, 1, 3, 3]\n",
    "• Stampare a video tutti e soli gli studenti che frequentano una prima edizione; non tutti i\n",
    "dati potrebbero essere necessari."
   ]
  },
  {
   "cell_type": "code",
   "execution_count": 217,
   "id": "9a3233e9-1562-4f36-8202-86863a1282de",
   "metadata": {},
   "outputs": [
    {
     "name": "stdout",
     "output_type": "stream",
     "text": [
      "Studenti che frequentano una prima edizione:\n",
      "Alex\n",
      "Faith\n"
     ]
    }
   ],
   "source": [
    "studenti = [\"Alex\", \"Bob\", \"Cindy\", \"Dan\", \"Emma\", \"Faith\", \"Grace\", \"Henry\"]\n",
    "corsi = [\"Cybersecurity\", \"Data Analyst\", \"Backend\", \"Frontend\", \"Data Analyst\", \"Backend\", \"Frontend\", \"Cybersecurity\"]\n",
    "edizioni = [1, 2, 3, 2, 2, 1, 3, 3]\n",
    "print(\"Studenti che frequentano una prima edizione:\")\n",
    "for i in range(len(edizioni)):\n",
    "    if edizioni[i] == 1:\n",
    "        print(studenti[i])"
   ]
  },
  {
   "cell_type": "markdown",
   "id": "272c72e2-feac-4dfe-87e3-1ef52a21de56",
   "metadata": {},
   "source": [
    "Esercizio 18 - \r\n",
    "Abbiamo una lista di stringhe di prezzi in dollari, che erroneamente sono stati\r\n",
    "scritti con il simbolo dell'euro:\r\n",
    "prezzi = [\"100 €\", \"200 €\", \"500 €\", \"10 €\", \"50 €\", \"70\r\n",
    "€\"]\r\n",
    "cambiare il simbolo dell'euro (€) in quello del dollaro ($) per ogni stringa nella\r\n",
    "lista; il risultato sarà memorizzato in un'altra lista."
   ]
  },
  {
   "cell_type": "code",
   "execution_count": 220,
   "id": "019c3bed-c9b6-49bd-bda1-823f827e4bb8",
   "metadata": {},
   "outputs": [
    {
     "name": "stdout",
     "output_type": "stream",
     "text": [
      "Prezzi corretti:\n",
      "100 $\n",
      "200 $\n",
      "500 $\n",
      "10 $\n",
      "50 $\n",
      "70 $\n"
     ]
    }
   ],
   "source": [
    "prezzi = [\"100 €\", \"200 €\", \"500 €\", \"10 €\", \"50 €\", \"70 €\"]\n",
    "prezzi_corretti = []\n",
    "for prezzo in prezzi:\n",
    "    prezzo_corretto = prezzo.replace(\"€\", \"$\")\n",
    "    prezzi_corretti.append(prezzo_corretto)\n",
    "print(\"Prezzi corretti:\")\n",
    "for prezzo in prezzi_corretti:\n",
    "    print(prezzo)"
   ]
  },
  {
   "cell_type": "markdown",
   "id": "5d2f2301-c9c0-4340-a6c2-5c78c676e9cc",
   "metadata": {},
   "source": [
    "Esercizio 19 - \r\n",
    "Abbiamo una lista di studenti:\r\n",
    "studenti = [\"Alex\", \"Bob\", \"Cindy\", \"Dan\", \"Emma\", \"Faith\",\r\n",
    "\"Grace\", \"Henry\", \"Isabelle\", \"John\"]\r\n",
    "vogliamo dividere gli studenti in due squadre per un campionato di Uno nel\r\n",
    "seguente modo: selezioneremo i nomi in posizione pari per un squadra, e i nomi\r\n",
    "in posizione dispari per l'altra.\r\n",
    "Creiamo due liste per ogni squadra, e alla fine visualizziamole."
   ]
  },
  {
   "cell_type": "code",
   "execution_count": 223,
   "id": "8f29fddf-444b-4e7c-a6a7-55b719389756",
   "metadata": {},
   "outputs": [
    {
     "name": "stdout",
     "output_type": "stream",
     "text": [
      "Squadra 1:\n",
      "['Alex', 'Cindy', 'Emma', 'Grace', 'Isabelle']\n",
      "\n",
      "Squadra 2:\n",
      "['Bob', 'Dan', 'Faith', 'Henry', 'John']\n"
     ]
    }
   ],
   "source": [
    "studenti = [\"Alex\", \"Bob\", \"Cindy\", \"Dan\", \"Emma\", \"Faith\", \"Grace\", \"Henry\", \"Isabelle\", \"John\"]\n",
    "squadra_1 = []\n",
    "squadra_2 = []\n",
    "for i in range(len(studenti)):\n",
    "    if i % 2 == 0:\n",
    "        squadra_1.append(studenti[i])  # Posizione pari, aggiungi alla squadra 1\n",
    "    else:\n",
    "        squadra_2.append(studenti[i])  # Posizione dispari, aggiungi alla squadra 2\n",
    "print(\"Squadra 1:\")\n",
    "print(squadra_1)\n",
    "print(\"\\nSquadra 2:\")\n",
    "print(squadra_2)"
   ]
  },
  {
   "cell_type": "markdown",
   "id": "c0327155-3521-4da4-99ee-e1cf3e2853cd",
   "metadata": {},
   "source": [
    "Esercizio 20 - \r\n",
    "Abbiamo una lista con i guadagni degli ultimi 12 mesi (supponiamo da Gennaio a\r\n",
    "Dicembre):\r\n",
    "guadagni = [100, 90, 70, 40, 50, 80, 90, 120, 80, 20, 50, 50]\r\n",
    "dobbiamo confrontare, stampando tutto a video, il guadagno di ogni mese con la media\r\n",
    "dei guadagni precedenti, e specificare nell'output se il guadagno attuale è maggiore o\r\n",
    "minore della media dei precedenti.\r\n",
    "Esempio di un possibile output:\r\n",
    "Mese 1: 100 €\r\n",
    "Mese 2: 90 € (media prec: 100 € - il guadagno attuale è minore)\r\n",
    "Mese 3: 70 € (media prec: 95 € - il guadagno attuale è minore)"
   ]
  },
  {
   "cell_type": "code",
   "execution_count": 232,
   "id": "78dee735-0be0-4188-aa9c-bb388ce23193",
   "metadata": {},
   "outputs": [
    {
     "name": "stdout",
     "output_type": "stream",
     "text": [
      "Mese 1: 100 €\n",
      "Mese 2: 90 € (media prec: 100.00 € - il guadagno attuale è minore)\n",
      "Mese 3: 70 € (media prec: 95.00 € - il guadagno attuale è minore)\n",
      "Mese 4: 40 € (media prec: 86.67 € - il guadagno attuale è minore)\n",
      "Mese 5: 50 € (media prec: 75.00 € - il guadagno attuale è minore)\n",
      "Mese 6: 80 € (media prec: 70.00 € - il guadagno attuale è maggiore)\n",
      "Mese 7: 90 € (media prec: 71.67 € - il guadagno attuale è maggiore)\n",
      "Mese 8: 120 € (media prec: 74.29 € - il guadagno attuale è maggiore)\n",
      "Mese 9: 80 € (media prec: 80.00 € - il guadagno attuale è minore)\n",
      "Mese 10: 20 € (media prec: 80.00 € - il guadagno attuale è minore)\n",
      "Mese 11: 50 € (media prec: 74.00 € - il guadagno attuale è minore)\n",
      "Mese 12: 50 € (media prec: 71.82 € - il guadagno attuale è minore)\n"
     ]
    }
   ],
   "source": [
    "guadagni = [100, 90, 70, 40, 50, 80, 90, 120, 80, 20, 50, 50]\n",
    "for i in range(len(guadagni)):\n",
    "    if i == 0:\n",
    "        media_precedenti = 0 \n",
    "    else:\n",
    "        media_precedenti = sum(guadagni[:i]) / i\n",
    "    if i == 0:\n",
    "        print(f\"Mese {i + 1}: {guadagni[i]} €\")\n",
    "    else:\n",
    "        confronto = \"maggiore\" if guadagni[i] > media_precedenti else \"minore\"\n",
    "        print(f\"Mese {i + 1}: {guadagni[i]} € (media prec: {media_precedenti:.2f} € - il guadagno attuale è {confronto})\")"
   ]
  },
  {
   "cell_type": "code",
   "execution_count": null,
   "id": "7b746dcc-77e2-4020-8afe-ad7cb82dcdf7",
   "metadata": {},
   "outputs": [],
   "source": []
  }
 ],
 "metadata": {
  "kernelspec": {
   "display_name": "Python 3 (ipykernel)",
   "language": "python",
   "name": "python3"
  },
  "language_info": {
   "codemirror_mode": {
    "name": "ipython",
    "version": 3
   },
   "file_extension": ".py",
   "mimetype": "text/x-python",
   "name": "python",
   "nbconvert_exporter": "python",
   "pygments_lexer": "ipython3",
   "version": "3.11.7"
  }
 },
 "nbformat": 4,
 "nbformat_minor": 5
}
